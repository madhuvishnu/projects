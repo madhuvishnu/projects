{
  "nbformat": 4,
  "nbformat_minor": 0,
  "metadata": {
    "colab": {
      "provenance": []
    },
    "kernelspec": {
      "name": "python3",
      "display_name": "Python 3"
    },
    "language_info": {
      "name": "python"
    }
  },
  "cells": [
    {
      "cell_type": "code",
      "execution_count": null,
      "metadata": {
        "colab": {
          "base_uri": "https://localhost:8080/"
        },
        "id": "gnewvqSV4YD0",
        "outputId": "f6110420-6392-4791-d202-b79a38053f34"
      },
      "outputs": [
        {
          "name": "stdout",
          "output_type": "stream",
          "text": [
            "NLTK Downloader\n",
            "---------------------------------------------------------------------------\n",
            "    d) Download   l) List    u) Update   c) Config   h) Help   q) Quit\n",
            "---------------------------------------------------------------------------\n",
            "Downloader> all\n",
            "Command 'all' unrecognized\n",
            "\n",
            "---------------------------------------------------------------------------\n",
            "    d) Download   l) List    u) Update   c) Config   h) Help   q) Quit\n",
            "---------------------------------------------------------------------------\n",
            "Downloader> d\n",
            "\n",
            "Download which package (l=list; x=cancel)?\n",
            "  Identifier> all\n"
          ]
        },
        {
          "output_type": "stream",
          "name": "stderr",
          "text": [
            "    Downloading collection 'all'\n",
            "       | \n",
            "       | Downloading package abc to /root/nltk_data...\n",
            "       |   Unzipping corpora/abc.zip.\n",
            "       | Downloading package alpino to /root/nltk_data...\n",
            "       |   Unzipping corpora/alpino.zip.\n",
            "       | Downloading package averaged_perceptron_tagger to\n",
            "       |     /root/nltk_data...\n",
            "       |   Unzipping taggers/averaged_perceptron_tagger.zip.\n",
            "       | Downloading package averaged_perceptron_tagger_ru to\n",
            "       |     /root/nltk_data...\n",
            "       |   Unzipping taggers/averaged_perceptron_tagger_ru.zip.\n",
            "       | Downloading package basque_grammars to /root/nltk_data...\n",
            "       |   Unzipping grammars/basque_grammars.zip.\n",
            "       | Downloading package bcp47 to /root/nltk_data...\n",
            "       | Downloading package biocreative_ppi to /root/nltk_data...\n",
            "       |   Unzipping corpora/biocreative_ppi.zip.\n",
            "       | Downloading package bllip_wsj_no_aux to /root/nltk_data...\n",
            "       |   Unzipping models/bllip_wsj_no_aux.zip.\n",
            "       | Downloading package book_grammars to /root/nltk_data...\n",
            "       |   Unzipping grammars/book_grammars.zip.\n",
            "       | Downloading package brown to /root/nltk_data...\n",
            "       |   Unzipping corpora/brown.zip.\n",
            "       | Downloading package brown_tei to /root/nltk_data...\n",
            "       |   Unzipping corpora/brown_tei.zip.\n",
            "       | Downloading package cess_cat to /root/nltk_data...\n",
            "       |   Unzipping corpora/cess_cat.zip.\n",
            "       | Downloading package cess_esp to /root/nltk_data...\n",
            "       |   Unzipping corpora/cess_esp.zip.\n",
            "       | Downloading package chat80 to /root/nltk_data...\n",
            "       |   Unzipping corpora/chat80.zip.\n",
            "       | Downloading package city_database to /root/nltk_data...\n",
            "       |   Unzipping corpora/city_database.zip.\n",
            "       | Downloading package cmudict to /root/nltk_data...\n",
            "       |   Unzipping corpora/cmudict.zip.\n",
            "       | Downloading package comparative_sentences to\n",
            "       |     /root/nltk_data...\n",
            "       |   Unzipping corpora/comparative_sentences.zip.\n",
            "       | Downloading package comtrans to /root/nltk_data...\n",
            "       | Downloading package conll2000 to /root/nltk_data...\n",
            "       |   Unzipping corpora/conll2000.zip.\n",
            "       | Downloading package conll2002 to /root/nltk_data...\n",
            "       |   Unzipping corpora/conll2002.zip.\n",
            "       | Downloading package conll2007 to /root/nltk_data...\n",
            "       | Downloading package crubadan to /root/nltk_data...\n",
            "       |   Unzipping corpora/crubadan.zip.\n",
            "       | Downloading package dependency_treebank to /root/nltk_data...\n",
            "       |   Unzipping corpora/dependency_treebank.zip.\n",
            "       | Downloading package dolch to /root/nltk_data...\n",
            "       |   Unzipping corpora/dolch.zip.\n",
            "       | Downloading package europarl_raw to /root/nltk_data...\n",
            "       |   Unzipping corpora/europarl_raw.zip.\n",
            "       | Downloading package extended_omw to /root/nltk_data...\n",
            "       | Downloading package floresta to /root/nltk_data...\n",
            "       |   Unzipping corpora/floresta.zip.\n",
            "       | Downloading package framenet_v15 to /root/nltk_data...\n",
            "       |   Unzipping corpora/framenet_v15.zip.\n",
            "       | Downloading package framenet_v17 to /root/nltk_data...\n",
            "       |   Unzipping corpora/framenet_v17.zip.\n",
            "       | Downloading package gazetteers to /root/nltk_data...\n",
            "       |   Unzipping corpora/gazetteers.zip.\n",
            "       | Downloading package genesis to /root/nltk_data...\n",
            "       |   Unzipping corpora/genesis.zip.\n",
            "       | Downloading package gutenberg to /root/nltk_data...\n",
            "       |   Unzipping corpora/gutenberg.zip.\n",
            "       | Downloading package ieer to /root/nltk_data...\n",
            "       |   Unzipping corpora/ieer.zip.\n",
            "       | Downloading package inaugural to /root/nltk_data...\n",
            "       |   Unzipping corpora/inaugural.zip.\n",
            "       | Downloading package indian to /root/nltk_data...\n",
            "       |   Unzipping corpora/indian.zip.\n",
            "       | Downloading package jeita to /root/nltk_data...\n",
            "       | Downloading package kimmo to /root/nltk_data...\n",
            "       |   Unzipping corpora/kimmo.zip.\n",
            "       | Downloading package knbc to /root/nltk_data...\n",
            "       | Downloading package large_grammars to /root/nltk_data...\n",
            "       |   Unzipping grammars/large_grammars.zip.\n",
            "       | Downloading package lin_thesaurus to /root/nltk_data...\n",
            "       |   Unzipping corpora/lin_thesaurus.zip.\n",
            "       | Downloading package mac_morpho to /root/nltk_data...\n",
            "       |   Unzipping corpora/mac_morpho.zip.\n",
            "       | Downloading package machado to /root/nltk_data...\n",
            "       | Downloading package masc_tagged to /root/nltk_data...\n",
            "       | Downloading package maxent_ne_chunker to /root/nltk_data...\n",
            "       |   Unzipping chunkers/maxent_ne_chunker.zip.\n",
            "       | Downloading package maxent_treebank_pos_tagger to\n",
            "       |     /root/nltk_data...\n",
            "       |   Unzipping taggers/maxent_treebank_pos_tagger.zip.\n",
            "       | Downloading package moses_sample to /root/nltk_data...\n",
            "       |   Unzipping models/moses_sample.zip.\n",
            "       | Downloading package movie_reviews to /root/nltk_data...\n",
            "       |   Unzipping corpora/movie_reviews.zip.\n",
            "       | Downloading package mte_teip5 to /root/nltk_data...\n",
            "       |   Unzipping corpora/mte_teip5.zip.\n",
            "       | Downloading package mwa_ppdb to /root/nltk_data...\n",
            "       |   Unzipping misc/mwa_ppdb.zip.\n",
            "       | Downloading package names to /root/nltk_data...\n",
            "       |   Unzipping corpora/names.zip.\n",
            "       | Downloading package nombank.1.0 to /root/nltk_data...\n",
            "       | Downloading package nonbreaking_prefixes to\n",
            "       |     /root/nltk_data...\n",
            "       |   Unzipping corpora/nonbreaking_prefixes.zip.\n",
            "       | Downloading package nps_chat to /root/nltk_data...\n",
            "       |   Unzipping corpora/nps_chat.zip.\n",
            "       | Downloading package omw to /root/nltk_data...\n",
            "       | Downloading package omw-1.4 to /root/nltk_data...\n",
            "       | Downloading package opinion_lexicon to /root/nltk_data...\n",
            "       |   Unzipping corpora/opinion_lexicon.zip.\n",
            "       | Downloading package panlex_swadesh to /root/nltk_data...\n",
            "       | Downloading package paradigms to /root/nltk_data...\n",
            "       |   Unzipping corpora/paradigms.zip.\n",
            "       | Downloading package pe08 to /root/nltk_data...\n",
            "       |   Unzipping corpora/pe08.zip.\n",
            "       | Downloading package perluniprops to /root/nltk_data...\n",
            "       |   Unzipping misc/perluniprops.zip.\n",
            "       | Downloading package pil to /root/nltk_data...\n",
            "       |   Unzipping corpora/pil.zip.\n",
            "       | Downloading package pl196x to /root/nltk_data...\n",
            "       |   Unzipping corpora/pl196x.zip.\n",
            "       | Downloading package porter_test to /root/nltk_data...\n",
            "       |   Unzipping stemmers/porter_test.zip.\n",
            "       | Downloading package ppattach to /root/nltk_data...\n",
            "       |   Unzipping corpora/ppattach.zip.\n",
            "       | Downloading package problem_reports to /root/nltk_data...\n",
            "       |   Unzipping corpora/problem_reports.zip.\n",
            "       | Downloading package product_reviews_1 to /root/nltk_data...\n",
            "       |   Unzipping corpora/product_reviews_1.zip.\n",
            "       | Downloading package product_reviews_2 to /root/nltk_data...\n",
            "       |   Unzipping corpora/product_reviews_2.zip.\n",
            "       | Downloading package propbank to /root/nltk_data...\n",
            "       | Downloading package pros_cons to /root/nltk_data...\n",
            "       |   Unzipping corpora/pros_cons.zip.\n",
            "       | Downloading package ptb to /root/nltk_data...\n",
            "       |   Unzipping corpora/ptb.zip.\n",
            "       | Downloading package punkt to /root/nltk_data...\n",
            "       |   Unzipping tokenizers/punkt.zip.\n",
            "       | Downloading package qc to /root/nltk_data...\n",
            "       |   Unzipping corpora/qc.zip.\n",
            "       | Downloading package reuters to /root/nltk_data...\n",
            "       | Downloading package rslp to /root/nltk_data...\n",
            "       |   Unzipping stemmers/rslp.zip.\n",
            "       | Downloading package rte to /root/nltk_data...\n",
            "       |   Unzipping corpora/rte.zip.\n",
            "       | Downloading package sample_grammars to /root/nltk_data...\n",
            "       |   Unzipping grammars/sample_grammars.zip.\n",
            "       | Downloading package semcor to /root/nltk_data...\n",
            "       | Downloading package senseval to /root/nltk_data...\n",
            "       |   Unzipping corpora/senseval.zip.\n",
            "       | Downloading package sentence_polarity to /root/nltk_data...\n",
            "       |   Unzipping corpora/sentence_polarity.zip.\n",
            "       | Downloading package sentiwordnet to /root/nltk_data...\n",
            "       |   Unzipping corpora/sentiwordnet.zip.\n",
            "       | Downloading package shakespeare to /root/nltk_data...\n",
            "       |   Unzipping corpora/shakespeare.zip.\n",
            "       | Downloading package sinica_treebank to /root/nltk_data...\n",
            "       |   Unzipping corpora/sinica_treebank.zip.\n",
            "       | Downloading package smultron to /root/nltk_data...\n",
            "       |   Unzipping corpora/smultron.zip.\n",
            "       | Downloading package snowball_data to /root/nltk_data...\n",
            "       | Downloading package spanish_grammars to /root/nltk_data...\n",
            "       |   Unzipping grammars/spanish_grammars.zip.\n",
            "       | Downloading package state_union to /root/nltk_data...\n",
            "       |   Unzipping corpora/state_union.zip.\n",
            "       | Downloading package stopwords to /root/nltk_data...\n",
            "       |   Unzipping corpora/stopwords.zip.\n",
            "       | Downloading package subjectivity to /root/nltk_data...\n",
            "       |   Unzipping corpora/subjectivity.zip.\n",
            "       | Downloading package swadesh to /root/nltk_data...\n",
            "       |   Unzipping corpora/swadesh.zip.\n",
            "       | Downloading package switchboard to /root/nltk_data...\n",
            "       |   Unzipping corpora/switchboard.zip.\n",
            "       | Downloading package tagsets to /root/nltk_data...\n",
            "       |   Unzipping help/tagsets.zip.\n",
            "       | Downloading package timit to /root/nltk_data...\n",
            "       |   Unzipping corpora/timit.zip.\n",
            "       | Downloading package toolbox to /root/nltk_data...\n",
            "       |   Unzipping corpora/toolbox.zip.\n",
            "       | Downloading package treebank to /root/nltk_data...\n",
            "       |   Unzipping corpora/treebank.zip.\n",
            "       | Downloading package twitter_samples to /root/nltk_data...\n",
            "       |   Unzipping corpora/twitter_samples.zip.\n",
            "       | Downloading package udhr to /root/nltk_data...\n",
            "       |   Unzipping corpora/udhr.zip.\n",
            "       | Downloading package udhr2 to /root/nltk_data...\n",
            "       |   Unzipping corpora/udhr2.zip.\n",
            "       | Downloading package unicode_samples to /root/nltk_data...\n",
            "       |   Unzipping corpora/unicode_samples.zip.\n",
            "       | Downloading package universal_tagset to /root/nltk_data...\n",
            "       |   Unzipping taggers/universal_tagset.zip.\n",
            "       | Downloading package universal_treebanks_v20 to\n",
            "       |     /root/nltk_data...\n",
            "       | Downloading package vader_lexicon to /root/nltk_data...\n",
            "       | Downloading package verbnet to /root/nltk_data...\n",
            "       |   Unzipping corpora/verbnet.zip.\n",
            "       | Downloading package verbnet3 to /root/nltk_data...\n",
            "       |   Unzipping corpora/verbnet3.zip.\n",
            "       | Downloading package webtext to /root/nltk_data...\n",
            "       |   Unzipping corpora/webtext.zip.\n",
            "       | Downloading package wmt15_eval to /root/nltk_data...\n",
            "       |   Unzipping models/wmt15_eval.zip.\n",
            "       | Downloading package word2vec_sample to /root/nltk_data...\n",
            "       |   Unzipping models/word2vec_sample.zip.\n",
            "       | Downloading package wordnet to /root/nltk_data...\n",
            "       | Downloading package wordnet2021 to /root/nltk_data...\n",
            "       | Downloading package wordnet2022 to /root/nltk_data...\n",
            "       |   Unzipping corpora/wordnet2022.zip.\n",
            "       | Downloading package wordnet31 to /root/nltk_data...\n",
            "       | Downloading package wordnet_ic to /root/nltk_data...\n",
            "       |   Unzipping corpora/wordnet_ic.zip.\n",
            "       | Downloading package words to /root/nltk_data...\n",
            "       |   Unzipping corpora/words.zip.\n",
            "       | Downloading package ycoe to /root/nltk_data...\n",
            "       |   Unzipping corpora/ycoe.zip.\n",
            "       | \n",
            "     Done downloading collection all\n"
          ]
        },
        {
          "name": "stdout",
          "output_type": "stream",
          "text": [
            "\n",
            "---------------------------------------------------------------------------\n",
            "    d) Download   l) List    u) Update   c) Config   h) Help   q) Quit\n",
            "---------------------------------------------------------------------------\n",
            "Downloader> q\n"
          ]
        },
        {
          "output_type": "execute_result",
          "data": {
            "text/plain": [
              "True"
            ]
          },
          "metadata": {},
          "execution_count": 1
        }
      ],
      "source": [
        "import nltk\n",
        "nltk.download()"
      ]
    },
    {
      "cell_type": "markdown",
      "source": [
        "## Gender Identification\n",
        "Gender identification, in the context of natural language processing, is the task of determining the gender of a person based on their names. This task can be achieved through supervised classification using nltk, where the model is trained on a labeled dataset containing name samples along with their corresponding gender labels (e.g., male or female).\n",
        "\n",
        "##Step1 : Feature Extractor\n",
        "\n",
        "The first step in creating classifier, is to decide what features of inputs are relevant and how to encoding those features. For instance i am start by looking at lastletter of given name.\n",
        "The returned dictionary known as feature sets which gives basic information about inputs.\n"
      ],
      "metadata": {
        "id": "QmtDkl7F4ygK"
      }
    },
    {
      "cell_type": "code",
      "source": [
        "def gender_features(name):\n",
        "  return {'last_letter':name[-1]}\n",
        "\n",
        "gender_features('madhu')"
      ],
      "metadata": {
        "colab": {
          "base_uri": "https://localhost:8080/"
        },
        "id": "ep50UzQq4hNo",
        "outputId": "191b6e26-2a2c-4144-8359-90f012bfd28b"
      },
      "execution_count": null,
      "outputs": [
        {
          "output_type": "execute_result",
          "data": {
            "text/plain": [
              "{'last_letter': 'u'}"
            ]
          },
          "metadata": {},
          "execution_count": 3
        }
      ]
    },
    {
      "cell_type": "markdown",
      "source": [
        "##Step2 : Data Preparation\n",
        "Now we have to prepare a list of example names with its corresponding gender labels and shuffle the names using random library.\n"
      ],
      "metadata": {
        "id": "mh4N9XQ-6h_b"
      }
    },
    {
      "cell_type": "code",
      "source": [
        "from nltk.corpus import names\n",
        "labeled_names = [(name,'male') for name in names.words('male.txt')] + [(name,'female') for name in names.words('female.txt')]\n",
        "import random\n",
        "random.shuffle(labeled_names)"
      ],
      "metadata": {
        "id": "8jcKBQDI4hw0"
      },
      "execution_count": null,
      "outputs": []
    },
    {
      "cell_type": "markdown",
      "source": [
        "##Step 3 : Data Splitting\n",
        "Now use the feature extractor to process the labeled names and divide the resulting feature sets to testing data and test data.\n",
        "\n"
      ],
      "metadata": {
        "id": "ErL458Sa7CoF"
      }
    },
    {
      "cell_type": "code",
      "source": [
        "feature_sets = [(gender_features(n),gender) for (n,gender) in labeled_names]\n",
        "train_set,test_set = feature_sets[500:],feature_sets[:500]"
      ],
      "metadata": {
        "id": "p87TJrro8LZF"
      },
      "execution_count": null,
      "outputs": []
    },
    {
      "cell_type": "markdown",
      "source": [
        "##Step 4 : Model Training\n",
        "Here i am selecting Naive Bayes algorithm to build classifier model by training on training set.\n"
      ],
      "metadata": {
        "id": "5-E0p1lG8gTX"
      }
    },
    {
      "cell_type": "code",
      "source": [
        "classifier = nltk.NaiveBayesClassifier.train(train_set)"
      ],
      "metadata": {
        "id": "V1kzbWyI8fU0"
      },
      "execution_count": null,
      "outputs": []
    },
    {
      "cell_type": "markdown",
      "source": [
        "##Step 5 : Model Prediction\n",
        "Now see how the model predict the gender labels for given name.\n"
      ],
      "metadata": {
        "id": "TCgCjhdU9I5z"
      }
    },
    {
      "cell_type": "code",
      "source": [
        "classifier.classify(gender_features('Sania'))"
      ],
      "metadata": {
        "colab": {
          "base_uri": "https://localhost:8080/",
          "height": 35
        },
        "id": "jwWlNDBs9H9q",
        "outputId": "9c566488-be6d-4f82-cb11-576755fe0188"
      },
      "execution_count": null,
      "outputs": [
        {
          "output_type": "execute_result",
          "data": {
            "text/plain": [
              "'female'"
            ],
            "application/vnd.google.colaboratory.intrinsic+json": {
              "type": "string"
            }
          },
          "metadata": {},
          "execution_count": 12
        }
      ]
    },
    {
      "cell_type": "markdown",
      "source": [
        "##Step 5 : Model Evaluation\n",
        "Now evaluate the model performance by using unseen, new test data."
      ],
      "metadata": {
        "id": "EIUIdpi-9i9k"
      }
    },
    {
      "cell_type": "code",
      "source": [
        "nltk.classify.accuracy(classifier,test_set)"
      ],
      "metadata": {
        "colab": {
          "base_uri": "https://localhost:8080/"
        },
        "id": "Mr8gOEAd9h8l",
        "outputId": "fec59fd4-fdd3-4e83-bb31-d491818d99ac"
      },
      "execution_count": null,
      "outputs": [
        {
          "output_type": "execute_result",
          "data": {
            "text/plain": [
              "0.744"
            ]
          },
          "metadata": {},
          "execution_count": 13
        }
      ]
    },
    {
      "cell_type": "code",
      "source": [
        "classifier.show_most_informative_features(5)"
      ],
      "metadata": {
        "colab": {
          "base_uri": "https://localhost:8080/"
        },
        "id": "lOwxpC3g-rM9",
        "outputId": "1ed27bea-1e73-49fe-b618-f495e13ef8d6"
      },
      "execution_count": null,
      "outputs": [
        {
          "output_type": "stream",
          "name": "stdout",
          "text": [
            "Most Informative Features\n",
            "             last_letter = 'k'              male : female =     44.2 : 1.0\n",
            "             last_letter = 'a'            female : male   =     36.8 : 1.0\n",
            "             last_letter = 'f'              male : female =     27.6 : 1.0\n",
            "             last_letter = 'p'              male : female =     11.1 : 1.0\n",
            "             last_letter = 'd'              male : female =     10.6 : 1.0\n"
          ]
        }
      ]
    },
    {
      "cell_type": "markdown",
      "source": [
        "This listing shows that the names in the training set that end in \"k\" are male 44 times more often than they are female, but names that end in \"a\" are female 36 times more often than they are male. These ratios are known as likelihood ratios, and can be useful for comparing different feature-outcome relationships."
      ],
      "metadata": {
        "id": "JWzwePGN-2Dk"
      }
    },
    {
      "cell_type": "markdown",
      "source": [
        "Once an initial set of features has been chosen, a very productive method for refining the feature set is error analysis. First, we select a development set, containing the corpus data for creating the model. This development set is then subdivided into the training set and the dev-test set.\n",
        "\n",
        "\n"
      ],
      "metadata": {
        "id": "u4aBZI7P-Yii"
      }
    },
    {
      "cell_type": "code",
      "source": [
        "train_set = [(gender_features(n), gender) for (n, gender) in labeled_names[1500:]]\n",
        "devtest_set = [(gender_features(n), gender) for (n, gender) in labeled_names[500:1500]]\n",
        "test_set = [(gender_features(n), gender) for (n, gender) in labeled_names[:500]]"
      ],
      "metadata": {
        "id": "hjwO7Tzn-eFD"
      },
      "execution_count": null,
      "outputs": []
    },
    {
      "cell_type": "code",
      "source": [
        "classifier = nltk.NaiveBayesClassifier.train(train_set)\n"
      ],
      "metadata": {
        "id": "AF7-Xt0L_jxJ"
      },
      "execution_count": null,
      "outputs": []
    },
    {
      "cell_type": "markdown",
      "source": [
        "Using the dev-test set, we can generate a list of the errors that the classifier makes when predicting name genders:\n"
      ],
      "metadata": {
        "id": "soeJwVBu_8IQ"
      }
    },
    {
      "cell_type": "code",
      "source": [
        "errors = []\n",
        "for (name, tag) in labeled_names[500:1500]:\n",
        "  guess = classifier.classify(gender_features(name))\n",
        "  if guess != tag:\n",
        "      errors.append( (tag, guess, name) )"
      ],
      "metadata": {
        "id": "NjgN-SJX_9iO"
      },
      "execution_count": null,
      "outputs": []
    },
    {
      "cell_type": "code",
      "source": [
        "for (tag, guess, name) in sorted(errors):\n",
        "  print('correct={:<8} guess={:<8s} name={:<30}'.format(tag, guess, name))"
      ],
      "metadata": {
        "colab": {
          "base_uri": "https://localhost:8080/"
        },
        "id": "F1QUI5-T_zI0",
        "outputId": "b28a70bc-b98c-4316-b22e-7455f6aed313"
      },
      "execution_count": null,
      "outputs": [
        {
          "output_type": "stream",
          "name": "stdout",
          "text": [
            "correct=female   guess=male     name=Aigneis                       \n",
            "correct=female   guess=male     name=Allsun                        \n",
            "correct=female   guess=male     name=Ambur                         \n",
            "correct=female   guess=male     name=Annabal                       \n",
            "correct=female   guess=male     name=Bess                          \n",
            "correct=female   guess=male     name=Brandais                      \n",
            "correct=female   guess=male     name=Brear                         \n",
            "correct=female   guess=male     name=Brook                         \n",
            "correct=female   guess=male     name=Cal                           \n",
            "correct=female   guess=male     name=Camel                         \n",
            "correct=female   guess=male     name=Caro                          \n",
            "correct=female   guess=male     name=Charin                        \n",
            "correct=female   guess=male     name=Charmian                      \n",
            "correct=female   guess=male     name=Chicky                        \n",
            "correct=female   guess=male     name=Christean                     \n",
            "correct=female   guess=male     name=Christel                      \n",
            "correct=female   guess=male     name=Christen                      \n",
            "correct=female   guess=male     name=Chrystel                      \n",
            "correct=female   guess=male     name=Cybill                        \n",
            "correct=female   guess=male     name=Danit                         \n",
            "correct=female   guess=male     name=Darby                         \n",
            "correct=female   guess=male     name=Daveen                        \n",
            "correct=female   guess=male     name=Del                           \n",
            "correct=female   guess=male     name=Doloritas                     \n",
            "correct=female   guess=male     name=Dorian                        \n",
            "correct=female   guess=male     name=Dorothy                       \n",
            "correct=female   guess=male     name=Dot                           \n",
            "correct=female   guess=male     name=Eileen                        \n",
            "correct=female   guess=male     name=Elisabet                      \n",
            "correct=female   guess=male     name=Elizabet                      \n",
            "correct=female   guess=male     name=Erin                          \n",
            "correct=female   guess=male     name=Estell                        \n",
            "correct=female   guess=male     name=Evaleen                       \n",
            "correct=female   guess=male     name=Evangelin                     \n",
            "correct=female   guess=male     name=Fay                           \n",
            "correct=female   guess=male     name=Fran                          \n",
            "correct=female   guess=male     name=Fred                          \n",
            "correct=female   guess=male     name=Gen                           \n",
            "correct=female   guess=male     name=Gill                          \n",
            "correct=female   guess=male     name=Gredel                        \n",
            "correct=female   guess=male     name=Gus                           \n",
            "correct=female   guess=male     name=Gwendolen                     \n",
            "correct=female   guess=male     name=Hazel                         \n",
            "correct=female   guess=male     name=Idell                         \n",
            "correct=female   guess=male     name=Ines                          \n",
            "correct=female   guess=male     name=Iris                          \n",
            "correct=female   guess=male     name=Ivy                           \n",
            "correct=female   guess=male     name=Jaclin                        \n",
            "correct=female   guess=male     name=Jerry                         \n",
            "correct=female   guess=male     name=Jewel                         \n",
            "correct=female   guess=male     name=Jillian                       \n",
            "correct=female   guess=male     name=Joscelin                      \n",
            "correct=female   guess=male     name=Jourdan                       \n",
            "correct=female   guess=male     name=Joycelin                      \n",
            "correct=female   guess=male     name=Juliet                        \n",
            "correct=female   guess=male     name=Karel                         \n",
            "correct=female   guess=male     name=Karleen                       \n",
            "correct=female   guess=male     name=Kathy                         \n",
            "correct=female   guess=male     name=Katleen                       \n",
            "correct=female   guess=male     name=Kerrill                       \n",
            "correct=female   guess=male     name=Kristal                       \n",
            "correct=female   guess=male     name=Kristen                       \n",
            "correct=female   guess=male     name=Krystal                       \n",
            "correct=female   guess=male     name=Lil                           \n",
            "correct=female   guess=male     name=Lilas                         \n",
            "correct=female   guess=male     name=Lou                           \n",
            "correct=female   guess=male     name=Lynett                        \n",
            "correct=female   guess=male     name=Madlin                        \n",
            "correct=female   guess=male     name=Mag                           \n",
            "correct=female   guess=male     name=Margalo                       \n",
            "correct=female   guess=male     name=Margery                       \n",
            "correct=female   guess=male     name=Maribel                       \n",
            "correct=female   guess=male     name=Maridel                       \n",
            "correct=female   guess=male     name=Marris                        \n",
            "correct=female   guess=male     name=Maureen                       \n",
            "correct=female   guess=male     name=Max                           \n",
            "correct=female   guess=male     name=Meggan                        \n",
            "correct=female   guess=male     name=Mellisent                     \n",
            "correct=female   guess=male     name=Min                           \n",
            "correct=female   guess=male     name=Muriel                        \n",
            "correct=female   guess=male     name=Nert                          \n",
            "correct=female   guess=male     name=Nicky                         \n",
            "correct=female   guess=male     name=Olwen                         \n",
            "correct=female   guess=male     name=Pammy                         \n",
            "correct=female   guess=male     name=Persis                        \n",
            "correct=female   guess=male     name=Raven                         \n",
            "correct=female   guess=male     name=Raychel                       \n",
            "correct=female   guess=male     name=Robinett                      \n",
            "correct=female   guess=male     name=Rozalin                       \n",
            "correct=female   guess=male     name=Sal                           \n",
            "correct=female   guess=male     name=Scarlett                      \n",
            "correct=female   guess=male     name=Shaun                         \n",
            "correct=female   guess=male     name=Shirleen                      \n",
            "correct=female   guess=male     name=Sigrid                        \n",
            "correct=female   guess=male     name=Suzan                         \n",
            "correct=female   guess=male     name=Sydel                         \n",
            "correct=female   guess=male     name=Thomasin                      \n",
            "correct=female   guess=male     name=Tiffy                         \n",
            "correct=female   guess=male     name=Valry                         \n",
            "correct=female   guess=male     name=Veradis                       \n",
            "correct=female   guess=male     name=Veronike                      \n",
            "correct=female   guess=male     name=Wandis                        \n",
            "correct=female   guess=male     name=Yoko                          \n",
            "correct=male     guess=female   name=Abdullah                      \n",
            "correct=male     guess=female   name=Abe                           \n",
            "correct=male     guess=female   name=Addie                         \n",
            "correct=male     guess=female   name=Alley                         \n",
            "correct=male     guess=female   name=Antoine                       \n",
            "correct=male     guess=female   name=Arne                          \n",
            "correct=male     guess=female   name=Baillie                       \n",
            "correct=male     guess=female   name=Barnie                        \n",
            "correct=male     guess=female   name=Bjorne                        \n",
            "correct=male     guess=female   name=Bradly                        \n",
            "correct=male     guess=female   name=Carlyle                       \n",
            "correct=male     guess=female   name=Clarence                      \n",
            "correct=male     guess=female   name=Cortese                       \n",
            "correct=male     guess=female   name=Danie                         \n",
            "correct=male     guess=female   name=Davidde                       \n",
            "correct=male     guess=female   name=Davie                         \n",
            "correct=male     guess=female   name=Demetre                       \n",
            "correct=male     guess=female   name=Dewey                         \n",
            "correct=male     guess=female   name=Dimitri                       \n",
            "correct=male     guess=female   name=Donn                          \n",
            "correct=male     guess=female   name=Earle                         \n",
            "correct=male     guess=female   name=Ferdy                         \n",
            "correct=male     guess=female   name=Frankie                       \n",
            "correct=male     guess=female   name=Freddy                        \n",
            "correct=male     guess=female   name=Garcia                        \n",
            "correct=male     guess=female   name=Gerome                        \n",
            "correct=male     guess=female   name=Granville                     \n",
            "correct=male     guess=female   name=Holly                         \n",
            "correct=male     guess=female   name=Ikey                          \n",
            "correct=male     guess=female   name=Ira                           \n",
            "correct=male     guess=female   name=Jerrie                        \n",
            "correct=male     guess=female   name=Joe                           \n",
            "correct=male     guess=female   name=Jorge                         \n",
            "correct=male     guess=female   name=Josiah                        \n",
            "correct=male     guess=female   name=Kennedy                       \n",
            "correct=male     guess=female   name=Lawrence                      \n",
            "correct=male     guess=female   name=Lefty                         \n",
            "correct=male     guess=female   name=Lesley                        \n",
            "correct=male     guess=female   name=Lonny                         \n",
            "correct=male     guess=female   name=Lyle                          \n",
            "correct=male     guess=female   name=Lynn                          \n",
            "correct=male     guess=female   name=Meredeth                      \n",
            "correct=male     guess=female   name=Micah                         \n",
            "correct=male     guess=female   name=Mickey                        \n",
            "correct=male     guess=female   name=Monte                         \n",
            "correct=male     guess=female   name=Nichole                       \n",
            "correct=male     guess=female   name=Orville                       \n",
            "correct=male     guess=female   name=Ossie                         \n",
            "correct=male     guess=female   name=Ozzy                          \n",
            "correct=male     guess=female   name=Pasquale                      \n",
            "correct=male     guess=female   name=Peirce                        \n",
            "correct=male     guess=female   name=Quinn                         \n",
            "correct=male     guess=female   name=Randi                         \n",
            "correct=male     guess=female   name=Robbie                        \n",
            "correct=male     guess=female   name=Roni                          \n",
            "correct=male     guess=female   name=Roscoe                        \n",
            "correct=male     guess=female   name=Rustie                        \n",
            "correct=male     guess=female   name=Rusty                         \n",
            "correct=male     guess=female   name=Sammie                        \n",
            "correct=male     guess=female   name=Samuele                       \n",
            "correct=male     guess=female   name=Scottie                       \n",
            "correct=male     guess=female   name=Shaine                        \n",
            "correct=male     guess=female   name=Shea                          \n",
            "correct=male     guess=female   name=Si                            \n",
            "correct=male     guess=female   name=Skippie                       \n",
            "correct=male     guess=female   name=Skippy                        \n",
            "correct=male     guess=female   name=Stanly                        \n",
            "correct=male     guess=female   name=Steve                         \n",
            "correct=male     guess=female   name=Tarrance                      \n",
            "correct=male     guess=female   name=Thayne                        \n",
            "correct=male     guess=female   name=Tobie                         \n",
            "correct=male     guess=female   name=Tome                          \n",
            "correct=male     guess=female   name=Torey                         \n",
            "correct=male     guess=female   name=Torrance                      \n",
            "correct=male     guess=female   name=Uli                           \n",
            "correct=male     guess=female   name=Uriah                         \n",
            "correct=male     guess=female   name=Vance                         \n",
            "correct=male     guess=female   name=Wally                         \n",
            "correct=male     guess=female   name=Waverly                       \n",
            "correct=male     guess=female   name=Willy                         \n",
            "correct=male     guess=female   name=Woody                         \n"
          ]
        }
      ]
    },
    {
      "cell_type": "markdown",
      "source": [
        "Looking through this list of errors makes it clear that some suffixes that are more than one letter can be indicative of name genders. For example, names ending in yn appear to be predominantly female, despite the fact that names ending in n tend to be male; and names ending in ch are usually male, even though names that end in h tend to be female. We therefore adjust our feature extractor to include features for two-letter suffixes"
      ],
      "metadata": {
        "id": "XXsBYMnCJ18B"
      }
    },
    {
      "cell_type": "code",
      "source": [
        "def gender_features(word):\n",
        "     return {'suffix1': word[-1:],\n",
        "             'suffix2': word[-2:]}"
      ],
      "metadata": {
        "id": "ivHj_pzDJ-L3"
      },
      "execution_count": null,
      "outputs": []
    },
    {
      "cell_type": "code",
      "source": [
        "train_set = [(gender_features(n),gender) for (n,gender) in labeled_names[500:]]\n",
        "test_set = [(gender_features(n),gender) for (n,gender) in labeled_names[:500]]\n"
      ],
      "metadata": {
        "id": "i2XYsXl9KDuA"
      },
      "execution_count": null,
      "outputs": []
    },
    {
      "cell_type": "code",
      "source": [
        "classifier = nltk.NaiveBayesClassifier.train(train_set)"
      ],
      "metadata": {
        "id": "WYnb3DGoKcBL"
      },
      "execution_count": null,
      "outputs": []
    },
    {
      "cell_type": "code",
      "source": [
        "nltk.classify.accuracy(classifier,test_set)"
      ],
      "metadata": {
        "colab": {
          "base_uri": "https://localhost:8080/"
        },
        "id": "ObiaxEkJKocM",
        "outputId": "6f3b5bd7-268f-406f-8b87-f189e8e02900"
      },
      "execution_count": null,
      "outputs": [
        {
          "output_type": "execute_result",
          "data": {
            "text/plain": [
              "0.778"
            ]
          },
          "metadata": {},
          "execution_count": 24
        }
      ]
    }
  ]
}